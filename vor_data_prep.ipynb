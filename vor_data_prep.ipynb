{
 "cells": [
  {
   "cell_type": "markdown",
   "id": "99a06a69-667a-440d-b254-0a968d8bd92e",
   "metadata": {},
   "source": [
    "## Prep VOR data (2013-2021) for comparison with APEX and HLS biomass predictions"
   ]
  },
  {
   "cell_type": "markdown",
   "id": "fb3f9557-a90a-4dd6-b115-2e858410697a",
   "metadata": {},
   "source": [
    "#### Load required packages"
   ]
  },
  {
   "cell_type": "code",
   "execution_count": 71,
   "id": "e0bb6205-c5a7-46cd-a86a-ddc22bf9b315",
   "metadata": {},
   "outputs": [],
   "source": [
    "import os\n",
    "import numpy as np\n",
    "import pandas as pd\n",
    "import geopandas as gpd\n",
    "import re\n",
    "import matplotlib.pyplot as plt\n",
    "from shapely.geometry import MultiPoint"
   ]
  },
  {
   "cell_type": "markdown",
   "id": "1e3507a1-d271-47d6-bb64-e3c40960d21c",
   "metadata": {},
   "source": [
    "#### Define inputs/outputs"
   ]
  },
  {
   "cell_type": "code",
   "execution_count": 85,
   "id": "a7881768-66b9-482f-88f3-b7441ee9f7ed",
   "metadata": {},
   "outputs": [],
   "source": [
    "transects_f = \"C:/SPK_local/data/vectors/VOR_transects/CPER_VOR_Transects_all_2020_Oct14.shp\"\n",
    "vor_baseDIR = 'T:/2-Projects/AGM/Measurements - Annual Decisions/Vegetation/VOR/'\n",
    "vor_juneDIR = 'June/MultiYears/2013-2021/'\n",
    "vor_june_f = 'CARM_VOR_JUN_cln_attr_ALL_HiLo2021-10-01.csv'\n",
    "vor_octDIR = 'October/MultiYears/2013-2021/CARM_VOR_OCT_cln_attr_FORAGE_HiLo2021-10-26/' \n",
    "vor_oct_f = 'CARM_VOR_OCT_cln_attr_ALL_HiLo2021-10-26.csv'\n",
    "cper_2017_f = \"C:/SPK_local/data/vectors/Pasture_Boundaries/Shapefiles/cper_pastures_2017_clip.shp\"\n",
    "\n",
    "vor_dict = {\n",
    "    2014: \"C:/SPK_local/data/vegetation/CARM_weekly_VOR/Weekly_VOR_2014_simp.csv\",\n",
    "    2015: \"C:/SPK_local/data/vegetation/CARM_weekly_VOR/Weekly_VOR_2015_simp.csv\",\n",
    "    2016: \"C:/SPK_local/data/vegetation/CARM_weekly_VOR/Weekly_VOR_2016_simp.csv\",\n",
    "    2017: \"C:/SPK_local/data/vegetation/CARM_weekly_VOR/Weekly_VOR_2017_simp.csv\",\n",
    "    2018: \"C:/SPK_local/data/vegetation/CARM_weekly_VOR/Weekly_VOR_2018_simp.csv\",\n",
    "    2019: \"C:/SPK_local/data/vegetation/CARM_weekly_VOR/Weekly_VOR_2019_simp.csv\",\n",
    "    2020: \"C:/SPK_local/data/vegetation/CARM_weekly_VOR/Weekly_VOR_2020_simp.csv\",\n",
    "    2021: \"C:/SPK_local/data/vegetation/CARM_weekly_VOR/Weekly_VOR_2021_simp.csv\",\n",
    "}\n",
    "\n",
    "outDIR = 'data/'\n",
    "if not os.path.exists(outDIR):\n",
    "    os.mkdir(outDIR)"
   ]
  },
  {
   "cell_type": "markdown",
   "id": "f0ca1888-533a-4159-a7fa-392e78f4c50a",
   "metadata": {},
   "source": [
    "#### Define additional variables and information for data cleaning and preparation"
   ]
  },
  {
   "cell_type": "code",
   "execution_count": 3,
   "id": "e908c2a8-a29e-444b-987b-d3c7fb1c7e98",
   "metadata": {},
   "outputs": [],
   "source": [
    "# list of species to remove from datasets\n",
    "spp_rem = ['OPPO', 'ATCA', 'GUSA', 'EREF', 'ARFR', 'ERNA', 'KRLA', 'YUGL']\n",
    "\n",
    "# dictionary of species names to change\n",
    "spp_chg = {\"ANT\": \"BARE\", \"ARME\": \"ARPO\", \"CACU\": \"CADU\", \"CAIN\": \"CANE\", \"CELA\": \"KRLA\", \"CMRI\": \"CRMI\",\n",
    "           \"EBNU\": \"EVNU\", \"LYGU\": \"LYJU\", \"SIAB\": \"SAIB\", \"SIHY\": \"ELEL\", \"STCO\": \"HECO\",\n",
    "           \"UNK\": \"UNKN\", \"UNKF\": \"UNFB\", \"UKNF\": \"UNFB\", \"VUO\": \"VUOC\", \"BA\": \"BARE\", \"BU\": \"BUDA\",\n",
    "           \"CA\": \"CADU\", \"HE\": \"HECO\", \"VU\": \"VUOC\", \"BNO\": \"BOGR\", \"BRTI\": \"BRTE\", \"LITTT\": \"LITT\",\n",
    "           \"ALIT\": \"ALTE\", \"BGOR\": \"BOGR\", \"VARE\": \"BARE\", \"ALTI\": \"ALTE\", \"AT\": \"ATCA\", \"BR\": \"BRTE\",\n",
    "           \"KLI\": \"KRLA\", \"LOPP\": \"OPPO\", \"PA\": \"PASM\", \"POASM\": \"PASM\", \"SP\": \"SPAI\", \"VO\": \"VUOC\",\n",
    "           \"oldforb\": \"FORB\", \"BO\": \"BOBU\", \"std\": \"SD\", \"stde\": \"SD\", \"bu\": \"BUDA\", \"vo\": \"VUOC\", \"vouc\": \"VUOC\",\n",
    "           \"AFRF\": \"ARFR\", \"LIT\": \"LITT\", \"lit\": \"LITT\"}\n",
    "\n",
    "# species lists and build search for quantify species group\n",
    "base = r'^{}'\n",
    "expr = '|(?=.*{})'\n",
    "c4_spp = ['BOGR', 'BUDA', 'ARPU']\n",
    "c3_spp = ['PASM', 'HECO', 'CADU', 'ELEL', 'CAFI', 'DISP', 'MUTO', 'SPCR', 'SPAI', 'STCO']\n",
    "ann_spp = ['VUOC', 'BRTE']\n",
    "litt_spp = ['LITT']\n",
    "bare_spp = ['BARE', 'DUNG', 'ROCK']\n",
    "sd_spp = {'SD'}\n",
    "c4_search = re.sub('\\\\^\\\\|', r'^', base.format(''.join(expr.format(w) for w in c4_spp)))\n",
    "c3_search = re.sub('\\\\^\\\\|', r'^', base.format(''.join(expr.format(w) for w in c3_spp)))\n",
    "ann_search = re.sub('\\\\^\\\\|', r'^', base.format(''.join(expr.format(w) for w in ann_spp)))\n",
    "litt_search = re.sub('\\\\^\\\\|', r'^', base.format(''.join(expr.format(w) for w in litt_spp)))\n",
    "bare_search = re.sub('\\\\^\\\\|', r'^', base.format(''.join(expr.format(w) for w in bare_spp)))\n",
    "sd_search = re.sub('\\\\^\\\\|', r'^', base.format(''.join(expr.format(w) for w in sd_spp)))\n",
    "\n",
    "# coefficients for VOR to biomass regression\n",
    "coef_intcp = 32.9\n",
    "coef_low = 133.6\n",
    "coef_hi = 23.7\n",
    "\n",
    "# set experimental unit to 'Plot' or 'Transect'\n",
    "exp_unit = \"Plot\"\n",
    "\n",
    "# set filters for VOR\n",
    "max_vor = 50\n",
    "max_sd = 2.5"
   ]
  },
  {
   "cell_type": "markdown",
   "id": "4c630f6f-97da-46a0-a70c-fa8f8ecde3b7",
   "metadata": {},
   "source": [
    "#### Load and prepare transect data"
   ]
  },
  {
   "cell_type": "code",
   "execution_count": 79,
   "id": "1e2035b6-86a2-4637-a6c7-cffa86b99f48",
   "metadata": {},
   "outputs": [],
   "source": [
    "# load CPER shapefile\n",
    "cper = gpd.read_file(cper_2017_f)\n",
    "\n",
    "# load transect shapefile\n",
    "df_transects = gpd.read_file(transects_f)\n",
    "\n",
    "# manually rename transect pastures for consistency\n",
    "df_transects.loc[df_transects['PastureNm'] == 'NH', 'PastureNm'] = '10S'\n",
    "df_transects.loc[df_transects['PastureNm'] == '7se', 'PastureNm'] = '7SE'\n",
    "df_transects.loc[df_transects['PastureNm'] == '31w', 'PastureNm'] = '31W'\n",
    "df_transects.loc[df_transects['PastureNm'] == '26w', 'PastureNm'] = '26W'\n",
    "df_transects.loc[df_transects['PastureNm'] == '25nw', 'PastureNm'] = '25NW'\n",
    "df_transects.loc[df_transects['PastureNm'] == '17s', 'PastureNm'] = '17S'\n",
    "df_transects.loc[df_transects['PastureNm'] == '18s', 'PastureNm'] = '18S'\n",
    "df_transects.loc[df_transects['PastureNm'] == '19n', 'PastureNm'] = '19N'\n",
    "df_transects.loc[df_transects['PastureNm'] == '19n', 'PastureNm'] = '19N'\n",
    "df_transects.loc[df_transects['PastureNm'] == '21n', 'PastureNm'] = '21N'\n",
    "df_transects.loc[df_transects['PastureNm'] == '22SW', 'PastureNm'] = '22W'\n",
    "\n",
    "# strip letters from transect and plot numbers\n",
    "df_transects['Transect'] = df_transects['Transect'].apply(lambda x: re.sub(\"T\", \"\", str(x)))\n",
    "df_transects['Transect'] = df_transects['Transect'].apply(lambda x: re.sub(\"P\", \"\", str(x)))\n",
    "\n",
    "# create unique transect ID's\n",
    "df_transects['Id'] = df_transects['PastureNm'] + \"_\" + \\\n",
    "                     df_transects['Plot_Num'] + \"_\" + df_transects['Transect'].astype('str')\n",
    "df_transects['Id_plot'] = df_transects['PastureNm'] + \"_\" + \\\n",
    "                          df_transects['Plot_Num']\n",
    "\n",
    "# create plot polygons from transects, buffered by 15 m\n",
    "df_transects['geometry'] = df_transects['geometry'].apply(lambda x: x.coords[0])\n",
    "df_plots = df_transects.groupby(['Id_plot'])['geometry'].apply(lambda x: MultiPoint(x.tolist()).convex_hull)\n",
    "df_plots = gpd.GeoDataFrame(df_plots, geometry='geometry', crs=df_transects.crs).buffer(15)\n",
    "df_transects = df_transects.groupby(['Id'])['geometry'].apply(lambda x: MultiPoint(x.tolist()).convex_hull)\n",
    "df_transects = gpd.GeoDataFrame(df_transects, geometry='geometry', crs=df_plots.crs).buffer(15)"
   ]
  },
  {
   "cell_type": "markdown",
   "id": "3cd89373-6afe-4ee8-8641-d17a0f0aa0e6",
   "metadata": {},
   "source": [
    "#### Load and prepare weekly VOR data"
   ]
  },
  {
   "cell_type": "code",
   "execution_count": 79,
   "id": "9902be6f-c067-449c-a66b-e4350c31d7d9",
   "metadata": {},
   "outputs": [
    {
     "name": "stderr",
     "output_type": "stream",
     "text": [
      "C:\\Users\\sean.kearney\\.conda\\envs\\py_geo_env\\lib\\site-packages\\geopandas\\geodataframe.py:1321: UserWarning: Geometry column does not contain geometry.\n",
      "  warnings.warn(\"Geometry column does not contain geometry.\")\n"
     ]
    }
   ],
   "source": [
    "df_vor_2014 = pd.read_csv(vor_dict[2014])\n",
    "df_vor_2015 = pd.read_csv(vor_dict[2015])\n",
    "df_vor_2016 = pd.read_csv(vor_dict[2016])\n",
    "\n",
    "df_vor_2017 = pd.read_csv(vor_dict[2017])\n",
    "df_vor_2017.loc[df_vor_2017['Pasture'] == '18S_burn', 'PastureNm'] = '18S'\n",
    "df_vor_2017.loc[df_vor_2017['Pasture'] == '7SE_salt', 'PastureNm'] = '7SE'\n",
    "df_vor_2017.loc[df_vor_2017['Pasture'] == 'NH', 'PastureNm'] = '10S'\n",
    "\n",
    "df_vor_2018 = pd.read_csv(vor_dict[2018])\n",
    "df_vor_2018.loc[df_vor_2018['Plot'] == '4_burn', 'Plot'] = '4'\n",
    "df_vor_2018.loc[df_vor_2018['Pasture'] == '20NW_saltflat', 'PastureNm'] = '20NW'\n",
    "\n",
    "df_vor_2019 = pd.read_csv(vor_dict[2019], engine='python', encoding='cp1252') # needed due to encoding error?\n",
    "df_vor_2019.loc[df_vor_2019['Plot'] == '4_burn', 'Plot'] = '4'\n",
    "df_vor_2019 = df_vor_2019[df_vor_2019['Low'] != 'dung']\n",
    "df_vor_2019['Low'] = df_vor_2019['Low'].astype('int64')\n",
    "\n",
    "df_vor_2020 = pd.read_csv(vor_dict[2020], engine='python')\n",
    "df_vor_2020.loc[df_vor_2020['Pasture'] == 'NH', 'Pasture'] = '10S'\n",
    "df_vor_2020.loc[df_vor_2020['Plot'] == '4_burn', 'Plot'] = '4'\n",
    "df_vor_2020 = df_vor_2020[df_vor_2020['Low'] != 'dung']\n",
    "df_vor_2020['Low'] = df_vor_2020['Low'].astype('int64')\n",
    "\n",
    "df_vor_2021 = pd.read_csv(vor_dict[2021], engine='python')\n",
    "df_vor_2021.loc[df_vor_2021['Pasture'] == 'NH', 'Pasture'] = '10S'\n",
    "\n",
    "df_vor = pd.concat([df_vor_2014, df_vor_2015, df_vor_2016, df_vor_2017, \n",
    "                    df_vor_2018, df_vor_2019, df_vor_2020, df_vor_2021])\n",
    "df_vor = df_vor[~(df_vor.Low > df_vor.High)]  # remove nonsensical data\n",
    "df_vor['Spp'] = [re.sub(' ', '', str(x)) for x in df_vor['Spp']]  # remove any spaces in species names\n",
    "for name_old, name_new in spp_chg.items():\n",
    "    df_vor['Spp'] = df_vor['Spp'].replace(name_old, name_new)  # replace erroneous species names\n",
    "df_vor['Spp'] = df_vor['Spp'].str.upper()  # convert all species names to upper case\n",
    "df_vor = df_vor[~(df_vor['Spp'].isin(spp_rem))]  # remove non-herbaceous species\n",
    "df_vor = df_vor[~(df_vor['Comments'].str.contains(\"emove\", na=False))]\n",
    "df_vor['Date'] = pd.to_datetime(df_vor['Date'])\n",
    "df_vor['Year'] = df_vor['Date'].dt.year\n",
    "df_vor['bm'] = df_vor['Low'] * coef_low + df_vor['High'] * coef_hi + coef_intcp\n",
    "df_vor.loc[df_vor['G_B'] == 'G', 'G_B'] = 'g'\n",
    "df_vor.loc[df_vor['G_B'] == 'B', 'G_B'] = 'b'\n",
    "df_vor['Plot'] = \"P\" + df_vor['Plot'].astype('str')"
   ]
  },
  {
   "cell_type": "markdown",
   "id": "2ce5e002-802b-4090-8670-0695c73b10e4",
   "metadata": {},
   "source": [
    "#### Load and prepare June VOR data"
   ]
  },
  {
   "cell_type": "code",
   "execution_count": 58,
   "id": "6130bb45-df13-4340-8dcf-89364d153a95",
   "metadata": {},
   "outputs": [
    {
     "name": "stderr",
     "output_type": "stream",
     "text": [
      "C:\\Users\\SEAN~1.KEA\\AppData\\Local\\Temp/ipykernel_61624/3626740471.py:26: RuntimeWarning: Mean of empty slice\n",
      "  df_vor_june['Mean_Low'] = np.nanmean(df_vor_june[['East_Low1', 'West_Low2']], axis=1)\n",
      "C:\\Users\\SEAN~1.KEA\\AppData\\Local\\Temp/ipykernel_61624/3626740471.py:27: RuntimeWarning: Mean of empty slice\n",
      "  df_vor_june['Mean_High'] = np.nanmean(df_vor_june[['East_High1', 'West_High2']], axis=1)\n"
     ]
    }
   ],
   "source": [
    "df_vor_june = pd.read_csv(os.path.join(vor_baseDIR, vor_juneDIR, vor_june_f),\n",
    "                          usecols=np.arange(0, 15), engine='python')\n",
    "df_vor_june.loc[df_vor_june['SamplingDate'] == '11-Jun', \n",
    "                'SamplingDate'] = '6/11/' + str(df_vor_june.loc[df_vor_june['SamplingDate'] == '11-Jun', 'Year'].astype('int').unique().item())\n",
    "df_vor_june = df_vor_june[~df_vor_june.isnull().all(axis=1)]\n",
    "df_vor_june['Date'] = ['6/12/' + str(int(i)) for i in df_vor_june['Year']]\n",
    "df_vor_june['Date'] = pd.to_datetime(df_vor_june['Date'], format='%m/%d/%Y')\n",
    "df_vor_june.loc[df_vor_june['SamplingDate'].notnull(), 'Date'] = pd.to_datetime(df_vor_june.loc[df_vor_june['SamplingDate'].notnull(), 'SamplingDate'])\n",
    "df_vor_june.loc[df_vor_june['Pasture'] == 'NH', 'Pasture'] = '10S'\n",
    "df_vor_june['East_SppLo'] = [re.sub(' ', '', str(x)) for x in\n",
    "                            df_vor_june['East_SppLo']]  # remove any spaces in species names\n",
    "df_vor_june['West_SppLo'] = [re.sub(' ', '', str(x)) for x in\n",
    "                            df_vor_june['West_SppLo']]  # remove any spaces in species names\n",
    "for name_old, name_new in spp_chg.items():\n",
    "    df_vor_june['East_SppLo'] = df_vor_june['East_SppLo'].replace(name_old, name_new)  # replace erroneous species names\n",
    "    df_vor_june['West_SppLo'] = df_vor_june['West_SppLo'].replace(name_old, name_new)  # replace erroneous species names\n",
    "df_vor_june['East_SppLo'] = df_vor_june['East_SppLo'].str.upper()  # convert all species names to upper case\n",
    "df_vor_june['West_SppLo'] = df_vor_june['West_SppLo'].str.upper()  # convert all species names to upper case\n",
    "df_vor_june.loc[df_vor_june['East_SppLo'].isin(spp_rem), 'East_Low1'] = np.nan\n",
    "df_vor_june.loc[df_vor_june['East_SppLo'].isin(spp_rem), 'East_High1'] = np.nan\n",
    "df_vor_june.loc[df_vor_june['West_SppLo'].isin(spp_rem), 'West_Low2'] = np.nan\n",
    "df_vor_june.loc[df_vor_june['West_SppLo'].isin(spp_rem), 'West_High2'] = np.nan\n",
    "df_vor_june['Mean_Low'] = np.nanmean(df_vor_june[['East_Low1', 'West_Low2']], axis=1)\n",
    "df_vor_june['Mean_High'] = np.nanmean(df_vor_june[['East_High1', 'West_High2']], axis=1)\n",
    "df_vor_june['bm'] = df_vor_june['Mean_Low'] * coef_low + df_vor_june['Mean_High'] * coef_hi + coef_intcp\n",
    "df_vor_june['Plot'] = \"P\" + df_vor_june['Plot'].astype('str')"
   ]
  },
  {
   "cell_type": "markdown",
   "id": "c134bca5-96db-46a5-9ce0-9fd3fa6b3ad2",
   "metadata": {},
   "source": [
    "#### Load and prepare October VOR data"
   ]
  },
  {
   "cell_type": "code",
   "execution_count": 66,
   "id": "a584b57b-3fa1-4779-8eeb-302f17be3295",
   "metadata": {},
   "outputs": [],
   "source": [
    "df_vor_oct = pd.read_csv(os.path.join(vor_baseDIR, vor_octDIR, vor_oct_f),\n",
    "                          usecols=np.arange(0, 16), engine='python')\n",
    "df_vor_oct.loc[df_vor_oct['Pasture'] == 'NH', 'Pasture'] = '10S'\n",
    "df_vor_oct = df_vor_oct[~df_vor_oct.isnull().all(axis=1)]\n",
    "df_vor_oct['Date'] = ['10/5/' + str(int(i)) for i in df_vor_oct['Year']]\n",
    "df_vor_oct['Date'] = pd.to_datetime(df_vor_oct['Date'], format='%m/%d/%Y')\n",
    "df_vor_oct.loc[df_vor_oct['SamplingDate'].notnull(), 'Date'] = pd.to_datetime(df_vor_oct.loc[df_vor_oct['SamplingDate'].notnull(), 'SamplingDate'])\n",
    "df_vor_oct['East_SppLo'] = [re.sub(' ', '', str(x)) for x in\n",
    "                           df_vor_oct['East_SppLo']]  # remove any spaces in species names\n",
    "df_vor_oct['West_SppLo'] = [re.sub(' ', '', str(x)) for x in\n",
    "                           df_vor_oct['West_SppLo']]  # remove any spaces in species names\n",
    "for name_old, name_new in spp_chg.items():\n",
    "    df_vor_oct['East_SppLo'] = df_vor_oct['East_SppLo'].replace(name_old, name_new)  # replace erroneous species names\n",
    "    df_vor_oct['West_SppLo'] = df_vor_oct['West_SppLo'].replace(name_old, name_new)  # replace erroneous species names\n",
    "df_vor_oct['East_SppLo'] = df_vor_oct['East_SppLo'].str.upper()  # convert all species names to upper case\n",
    "df_vor_oct['West_SppLo'] = df_vor_oct['West_SppLo'].str.upper()  # convert all species names to upper case\n",
    "df_vor_oct.loc[df_vor_oct['East_SppLo'].isin(spp_rem), 'East_Low1'] = np.nan\n",
    "df_vor_oct.loc[df_vor_oct['East_SppLo'].isin(spp_rem), 'East_High1'] = np.nan\n",
    "df_vor_oct.loc[df_vor_oct['West_SppLo'].isin(spp_rem), 'West_Low2'] = np.nan\n",
    "df_vor_oct.loc[df_vor_oct['West_SppLo'].isin(spp_rem), 'West_High2'] = np.nan\n",
    "df_vor_oct['Mean_Low'] = np.nanmean(df_vor_oct[['East_Low1', 'West_Low2']], axis=1)\n",
    "df_vor_oct['Mean_High'] = np.nanmean(df_vor_oct[['East_High1', 'West_High2']], axis=1)\n",
    "#df_vor_oct['Date'] = [datetime(i, 10, 5) for i in df_vor_oct['Year']]\n",
    "df_vor_oct['bm'] = df_vor_oct['Mean_Low'] * coef_low + df_vor_oct['Mean_High'] * coef_hi + coef_intcp\n",
    "df_vor_oct['Plot'] = \"P\" + df_vor_oct['Plot'].astype('str')"
   ]
  },
  {
   "cell_type": "markdown",
   "id": "7f4e85d5-d909-4b7a-b6f2-e2dec372c0d9",
   "metadata": {},
   "source": [
    "#### Final cleanup, aggregation (to plot scale) and concatenation of VOR data"
   ]
  },
  {
   "cell_type": "code",
   "execution_count": 81,
   "id": "31e99a9f-e0b1-4cb0-9a86-8cd9cdbc48ca",
   "metadata": {},
   "outputs": [],
   "source": [
    "if exp_unit == \"Transect\":\n",
    "    df_vor_june['Id'] = df_vor_june['Pasture'] + \"_\" + df_vor_june['Plot'] + \"_\" + df_vor_june['Transect'].astype('str')\n",
    "    df_vor_oct['Id'] = df_vor_oct['Pasture'] + \"_\" + df_vor_oct['Plot'] + \"_\" + df_vor_oct['Transect'].astype('str')\n",
    "if exp_unit == \"Plot\":\n",
    "    df_vor_june['Id'] = df_vor_june['Pasture'] + \"_\" + df_vor_june['Plot']\n",
    "    df_vor_oct['Id'] = df_vor_oct['Pasture'] + \"_\" + df_vor_oct['Plot']\n",
    "df_vor['Id'] = df_vor['Pasture'] + \"_\" + df_vor['Plot']\n",
    "\n",
    "# final cleanup of data\n",
    "df_vor.loc[df_vor['High'] > max_vor, 'bm'] = np.nan\n",
    "df_vor.loc[df_vor.High > (\n",
    "        df_vor.groupby(['Id', 'Date']).High.transform('mean') +\n",
    "        df_vor.groupby(['Id', 'Date']).High.transform('std') * max_sd), 'bm'] = np.nan\n",
    "df_vor = df_vor[~(df_vor['bm'].isna())]\n",
    "\n",
    "df_vor_june = df_vor_june[~(df_vor_june.East_Low1 > df_vor_june.East_High1)]  # remove nonsensical data\n",
    "df_vor_june = df_vor_june[~(df_vor_june.West_Low2 > df_vor_june.West_High2)]  # remove nonsensical data\n",
    "df_vor_june.loc[(df_vor_june.East_High1 > max_vor) | (df_vor_june.West_High2 > max_vor), 'bm'] = np.nan\n",
    "df_vor_june.loc[df_vor_june.Mean_High > (\n",
    "        df_vor_june.groupby(['Id', 'Date']).Mean_High.transform('mean') +\n",
    "        df_vor_june.groupby(['Id', 'Date']).Mean_High.transform('std') * max_sd), 'bm'] = np.nan\n",
    "df_vor_june = df_vor_june[~(df_vor_june['bm'].isna())]\n",
    "\n",
    "df_vor_oct = df_vor_oct[~(df_vor_oct.East_Low1 > df_vor_oct.East_High1)]  # remove nonsensical data\n",
    "df_vor_oct = df_vor_oct[~(df_vor_oct.West_Low2 > df_vor_oct.West_High2)]  # remove nonsensical data\n",
    "df_vor_oct.loc[(df_vor_oct.East_High1 > max_vor) | (df_vor_oct.West_High2 > max_vor), 'bm'] = np.nan\n",
    "df_vor_oct.loc[df_vor_oct.Mean_High > (\n",
    "        df_vor_oct.groupby(['Id', 'Date']).Mean_High.transform('mean') +\n",
    "        df_vor_oct.groupby(['Id', 'Date']).Mean_High.transform('std') * max_sd), 'bm'] = np.nan\n",
    "df_vor_oct = df_vor_oct[~(df_vor_oct['bm'].isna())]\n",
    "\n",
    "df_vor_seas = pd.concat([df_vor_june, df_vor_oct])\n",
    "\n",
    "unique_SPP = pd.DataFrame(dict(species=pd.concat([df_vor_june.East_SppLo,\n",
    "                                                  df_vor_june.West_SppLo,\n",
    "                                                  df_vor_oct.East_SppLo,\n",
    "                                                  df_vor_oct.West_SppLo,\n",
    "                                                  df_vor.Spp]).unique()))"
   ]
  },
  {
   "cell_type": "markdown",
   "id": "089dfca0-67c9-4fb5-9880-90cb5a5bdf2e",
   "metadata": {},
   "source": [
    "#### Write data to disk"
   ]
  },
  {
   "cell_type": "code",
   "execution_count": 86,
   "id": "77a7d044-8298-450f-a955-4200fd97ecc9",
   "metadata": {},
   "outputs": [],
   "source": [
    "df_vor_seas.to_csv(os.path.join(outDIR, 'cper_vor_june_oct_2013_2021.csv'), index=False)\n",
    "\n",
    "df_vor.to_csv(os.path.join(outDIR, 'cper_vor_wkly_2013_2021.csv'), index=False)"
   ]
  },
  {
   "cell_type": "code",
   "execution_count": null,
   "id": "5d5a7398-66e5-41aa-abbd-eef89bfb1faf",
   "metadata": {},
   "outputs": [],
   "source": []
  }
 ],
 "metadata": {
  "kernelspec": {
   "display_name": "Python 3 (ipykernel)",
   "language": "python",
   "name": "python3"
  },
  "language_info": {
   "codemirror_mode": {
    "name": "ipython",
    "version": 3
   },
   "file_extension": ".py",
   "mimetype": "text/x-python",
   "name": "python",
   "nbconvert_exporter": "python",
   "pygments_lexer": "ipython3",
   "version": "3.9.5"
  }
 },
 "nbformat": 4,
 "nbformat_minor": 5
}
